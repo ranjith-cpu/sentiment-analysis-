{
 "cells": [
  {
   "cell_type": "code",
   "execution_count": 1,
   "metadata": {},
   "outputs": [],
   "source": [
    "import random\n",
    "import numpy as np\n",
    "from sklearn.naive_bayes import MultinomialNB\n",
    "from scipy.sparse import lil_matrix\n",
    "from sklearn.feature_extraction.text import TfidfTransformer"
   ]
  },
  {
   "cell_type": "code",
   "execution_count": 2,
   "metadata": {},
   "outputs": [],
   "source": [
    "%run mymod.ipynb"
   ]
  },
  {
   "cell_type": "code",
   "execution_count": 3,
   "metadata": {},
   "outputs": [],
   "source": [
    "def get_feature_vector(review):\n",
    "    uni_feature_vector = []\n",
    "    bi_feature_vector = []\n",
    "    words = review.split()\n",
    "    for i in range(len(words) - 1):\n",
    "        word = words[i]\n",
    "        next_word = words[i + 1]\n",
    "        if unigrams.get(word):\n",
    "            uni_feature_vector.append(word)\n",
    "        if USE_BIGRAMS:\n",
    "            if bigrams.get((word, next_word)):\n",
    "                bi_feature_vector.append((word, next_word))\n",
    "    if len(words) >= 1:\n",
    "        if unigrams.get(words[-1]):\n",
    "            uni_feature_vector.append(words[-1])\n",
    "    #print(uni_feature_vector, bi_feature_vector)\n",
    "    return uni_feature_vector, bi_feature_vector"
   ]
  },
  {
   "cell_type": "code",
   "execution_count": 4,
   "metadata": {},
   "outputs": [],
   "source": [
    "def extract_features(reviews, test_file, batch_size=500, feat_type='presence'):\n",
    "    \"\"\"returns features and labels\"\"\"\n",
    "    num_batches = int(np.ceil(len(reviews) / float(batch_size)))\n",
    "    #print(num_batches,\" \",batch_size)\n",
    "    for i in range(num_batches):\n",
    "        batch = reviews[i * batch_size: (i + 1) * batch_size]\n",
    "        features = lil_matrix((batch_size, VOCAB_SIZE))\n",
    "        labels = np.zeros(batch_size)\n",
    "        for j, review in enumerate(batch):\n",
    "            if test_file:\n",
    "                review_words = review[1][0]\n",
    "                review_bigrams = review[1][1]\n",
    "            else:\n",
    "                review_words = review[2][0]\n",
    "                review_bigrams = review[2][1]\n",
    "                labels[j] = review[1]\n",
    "            if feat_type == 'presence':\n",
    "                review_words = set(review_words)\n",
    "                review_bigrams = set(review_bigrams)\n",
    "            for word in review_words:\n",
    "                idx = unigrams.get(word)\n",
    "                if idx>=0:\n",
    "                    features[j, idx] += 1\n",
    "            if USE_BIGRAMS:\n",
    "                for bigram in review_bigrams:\n",
    "                    idx = bigrams.get(bigram)\n",
    "                    if idx:\n",
    "                        features[j, UNIGRAM_SIZE + idx] += 1\n",
    "        yield features, labels"
   ]
  },
  {
   "cell_type": "code",
   "execution_count": 5,
   "metadata": {},
   "outputs": [],
   "source": [
    "def process_reviews(csv_file, test_file):\n",
    "    \"\"\"Returns a list of tuples of type (review_id, feature_vector)\n",
    "            or (review_id, sentiment, feature_vector)\"\"\"\n",
    "    reviews = []\n",
    "    print('Generating feature vectors')\n",
    "    with open(csv_file, 'r') as csv:\n",
    "        lines = csv.readlines()\n",
    "        total = len(lines)\n",
    "        for i, line in enumerate(lines):\n",
    "            if test_file:\n",
    "                review_id, review = line.split(',')\n",
    "            else:\n",
    "                review_id, sentiment, review = line.split(',')\n",
    "            feature_vector = get_feature_vector(review)\n",
    "            #print(feature_vector)\n",
    "            if test_file:\n",
    "                reviews.append((review_id, feature_vector))\n",
    "            else:\n",
    "                reviews.append((review_id, int(sentiment), feature_vector))\n",
    "            write_status(i + 1, total)\n",
    "    print('\\n')\n",
    "    #print(reviews)\n",
    "    return reviews"
   ]
  },
  {
   "cell_type": "code",
   "execution_count": 6,
   "metadata": {},
   "outputs": [],
   "source": [
    "FREQ_DIST_FILE = 'train-processed-freqdist.pkl'\n",
    "BI_FREQ_DIST_FILE = 'train-processed-freqdist-bi.pkl'\n",
    "TRAIN_PROCESSED_FILE = 'train-processed.csv'\n",
    "TRAIN = True\n",
    "UNIGRAM_SIZE = 15000\n",
    "VOCAB_SIZE = UNIGRAM_SIZE\n",
    "USE_BIGRAMS = True\n",
    "if USE_BIGRAMS:\n",
    "    BIGRAM_SIZE =10000\n",
    "    VOCAB_SIZE = UNIGRAM_SIZE + BIGRAM_SIZE\n",
    "FEAT_TYPE = 'presence'"
   ]
  },
  {
   "cell_type": "code",
   "execution_count": 7,
   "metadata": {},
   "outputs": [
    {
     "name": "stdout",
     "output_type": "stream",
     "text": [
      "Generating feature vectors\n",
      "Processing 100000/100000rocessing 28536/100000\n",
      "\n",
      "Extracting features & training batches\n",
      "Processing 1/1Fit\n",
      "\n"
     ]
    }
   ],
   "source": [
    "    np.random.seed(1337)\n",
    "    unigrams = top_n_words(FREQ_DIST_FILE, UNIGRAM_SIZE)\n",
    "    #print(\"\\nunigrams\\n\",unigrams)\n",
    "    if USE_BIGRAMS:\n",
    "        bigrams = top_n_bigrams(BI_FREQ_DIST_FILE, BIGRAM_SIZE)\n",
    "    reviews = process_reviews(TRAIN_PROCESSED_FILE, test_file=False)\n",
    "    #print(\"\\nreviews\\n\",reviews)\n",
    "    if TRAIN:\n",
    "        train_reviews, val_reviews = split_data(reviews)\n",
    "    del reviews\n",
    "    \n",
    "\n",
    "    print('Extracting features & training batches')\n",
    "    clf = MultinomialNB()\n",
    "    batch_size = len(train_reviews)\n",
    "    i = 1\n",
    "    n_train_batches = int(np.ceil(len(train_reviews) / float(batch_size)))\n",
    "    #print(n_train_batches)\n",
    "    for training_set_X, training_set_y in extract_features(train_reviews, test_file=False, feat_type=FEAT_TYPE, batch_size=batch_size):\n",
    "        write_status(i, n_train_batches)\n",
    "        #print(\"hello\\n\",training_set_X,training_set_y)\n",
    "        i += 1\n",
    "        clf.partial_fit(training_set_X, training_set_y, classes=[0, 1])\n",
    "    del train_reviews\n",
    "    print('Fit\\n')\n",
    "   "
   ]
  },
  {
   "cell_type": "code",
   "execution_count": 8,
   "metadata": {},
   "outputs": [
    {
     "name": "stdout",
     "output_type": "stream",
     "text": [
      "accuracy\n",
      "Processing 1/1\n",
      "Correct: 7456/10000 = 74.5600 %\n"
     ]
    }
   ],
   "source": [
    "    print(\"accuracy\")\n",
    "    correct, total = 0, len(val_reviews)\n",
    "    i = 1\n",
    "    batch_size = len(val_reviews)\n",
    "    #print(\"len(val_reviews) \",len(val_reviews))\n",
    "    n_val_batches = int(np.ceil(len(val_reviews) / float(batch_size)))\n",
    "    for val_set_X, val_set_y in extract_features(val_reviews, test_file=False, feat_type=FEAT_TYPE, batch_size=batch_size):\n",
    "        prediction = clf.predict(val_set_X)\n",
    "        correct += np.sum(prediction == val_set_y)\n",
    "        write_status(i, n_val_batches)\n",
    "        i += 1\n",
    "    print('\\nCorrect: %d/%d = %.4f %%' % (correct, total, correct * 100. / total))"
   ]
  },
  {
   "cell_type": "code",
   "execution_count": 11,
   "metadata": {},
   "outputs": [
    {
     "name": "stdout",
     "output_type": "stream",
     "text": [
      "enter csv text file nametest-processed.csv\n",
      "\n",
      "Testing\n",
      "Generating feature vectors\n",
      "Processing 49999/49999\n",
      "\n",
      "Predicting batches\n",
      "Processing 100/100\n",
      " 55.72911458229165   44.27088541770835   49999\n",
      "\n",
      "Saved to naivebayes.csv\n"
     ]
    }
   ],
   "source": [
    "    TEST_PROCESSED_FILE = input(\"enter csv text file name\")\n",
    "    print('\\nTesting')\n",
    "    test_reviews = process_reviews(TEST_PROCESSED_FILE, test_file=True)\n",
    "    #print(test_reviews)\n",
    "    batch_size=500\n",
    "    n_test_batches = int(np.ceil(len(test_reviews) / float(batch_size)))\n",
    "    #print(\"dvd\",n_test_batches,\" \",batch_size)\n",
    "    predictions = np.array([])\n",
    "    print('Predicting batches')\n",
    "    i = 1\n",
    "    for test_set_X, _ in extract_features(test_reviews, test_file=True, feat_type=FEAT_TYPE):\n",
    "        prediction = clf.predict(test_set_X)\n",
    "        predictions = np.concatenate((predictions, prediction))\n",
    "        write_status(i, n_test_batches)\n",
    "        i += 1\n",
    "    with open(TEST_PROCESSED_FILE, 'r') as csv:\n",
    "        lines = csv.readlines()\n",
    "        tests = []\n",
    "        for line in lines:\n",
    "            l=line.rstrip('\\n')\n",
    "            tests.append(l)\n",
    "        #print(tests)\n",
    "    positive=negative=count=0\n",
    "    for j in range(len(test_reviews)):\n",
    "        if(int(predictions[j])==1):\n",
    "            positive+=1\n",
    "        else:\n",
    "            negative+=1\n",
    "        count+=1\n",
    "    positive=(positive/count)*100\n",
    "    negative=100-positive\n",
    "    print(\"\\n\",positive,\" \",negative,\" \",count)\n",
    "    predictions = [(tests[j],int(predictions[j])) for j in range(len(test_reviews))]\n",
    "    save_results_to_csv(predictions, 'naivebayes.csv')\n",
    "    print('\\nSaved to naivebayes.csv')"
   ]
  },
  {
   "cell_type": "code",
   "execution_count": null,
   "metadata": {},
   "outputs": [],
   "source": []
  }
 ],
 "metadata": {
  "kernelspec": {
   "display_name": "Python 3",
   "language": "python",
   "name": "python3"
  },
  "language_info": {
   "codemirror_mode": {
    "name": "ipython",
    "version": 3
   },
   "file_extension": ".py",
   "mimetype": "text/x-python",
   "name": "python",
   "nbconvert_exporter": "python",
   "pygments_lexer": "ipython3",
   "version": "3.7.6"
  }
 },
 "nbformat": 4,
 "nbformat_minor": 2
}
