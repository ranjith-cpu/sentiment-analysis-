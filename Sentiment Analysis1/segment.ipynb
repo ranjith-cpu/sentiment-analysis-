{
 "cells": [
  {
   "cell_type": "code",
   "execution_count": 1,
   "metadata": {},
   "outputs": [],
   "source": [
    "from nltk import FreqDist\n",
    "import pickle\n",
    "import sys\n",
    "from mymod import write_status\n",
    "from collections import Counter"
   ]
  },
  {
   "cell_type": "code",
   "execution_count": 2,
   "metadata": {},
   "outputs": [],
   "source": [
    "def analyze_review(review):\n",
    "    result = {}\n",
    "    result['MENTIONS'] = review.count('USER_MENTION')\n",
    "    result['URLS'] = review.count('URL')\n",
    "    result['POS_EMOS'] = review.count('EMO_POS')\n",
    "    result['NEG_EMOS'] = review.count('EMO_NEG')\n",
    "    review = review.replace('USER_MENTION', '').replace(\n",
    "        'URL', '')\n",
    "    words = review.split()\n",
    "    result['WORDS'] = len(words)\n",
    "    bigrams = get_bigrams(words)\n",
    "    result['BIGRAMS'] = len(bigrams)\n",
    "    return result, words, bigrams"
   ]
  },
  {
   "cell_type": "code",
   "execution_count": 3,
   "metadata": {},
   "outputs": [],
   "source": [
    "def get_bigrams(review_words):\n",
    "    bigrams = []\n",
    "    num_words = len(review_words)\n",
    "    for i in range(num_words - 1):\n",
    "        bigrams.append((review_words[i], review_words[i + 1]))\n",
    "    return bigrams"
   ]
  },
  {
   "cell_type": "code",
   "execution_count": 4,
   "metadata": {},
   "outputs": [],
   "source": [
    "def get_bigram_freqdist(bigrams):\n",
    "    freq_dict = {}\n",
    "    for bigram in bigrams:\n",
    "        if freq_dict.get(bigram):\n",
    "            freq_dict[bigram] += 1\n",
    "        else:\n",
    "            freq_dict[bigram] = 1\n",
    "    counter = Counter(freq_dict)\n",
    "    return counter"
   ]
  },
  {
   "cell_type": "code",
   "execution_count": 9,
   "metadata": {},
   "outputs": [
    {
     "name": "stdout",
     "output_type": "stream",
     "text": [
      "Enter preprocessed filetest-processed\n",
      "Processing 49999/49999\n",
      "Calculating frequency distribution\n",
      "Saved uni-frequency distribution to test-processed-freqdist.pkl\n",
      "Saved bi-frequency distribution to test-processed-freqdist-bi.pkl\n",
      "\n",
      "[Analysis Statistics]\n",
      "reviews => Total: 49999, Positive: 49999, Negative: 0\n",
      "User Mentions => Total: 36436, Avg: 0.7287, Max: 12\n",
      "URLs => Total: 2085, Avg: 0.0417, Max: 4\n",
      "Emojis => Total: 886, Positive: 588, Negative: 298, Avg: 0.0177, Max: 4\n",
      "Words => Total: 310624, Unique: 36140, Avg: 6.2126, Max: 25, Min: 0\n",
      "Bigrams => Total: 261227, Unique: 203305, Avg: 5.2246\n"
     ]
    }
   ],
   "source": [
    "    num_reviews, num_pos_reviews, num_neg_reviews = 0, 0, 0\n",
    "    num_mentions, max_mentions = 0, 0\n",
    "    num_emojis, num_pos_emojis, num_neg_emojis, max_emojis = 0, 0, 0, 0\n",
    "    num_urls, max_urls = 0, 0\n",
    "    num_words, num_unique_words, min_words, max_words = 0, 0, 1e6, 0\n",
    "    num_bigrams, num_unique_bigrams = 0, 0\n",
    "    all_words = []\n",
    "    all_bigrams = []\n",
    "    f = input(\"Enter preprocessed file\")\n",
    "    file = f + '.csv'\n",
    "    with open(file, 'r') as csv:\n",
    "        lines = csv.readlines()\n",
    "        num_reviews = len(lines)\n",
    "        for i, line in enumerate(lines):\n",
    "            if_pos, review = line.strip().split(',')\n",
    "            if_pos = int(if_pos)\n",
    "            if if_pos:\n",
    "                num_pos_reviews += 1\n",
    "            else:\n",
    "                num_neg_reviews += 1\n",
    "            result, words, bigrams = analyze_review(review)\n",
    "            num_mentions += result['MENTIONS']\n",
    "            max_mentions = max(max_mentions, result['MENTIONS'])\n",
    "            num_pos_emojis += result['POS_EMOS']\n",
    "            num_neg_emojis += result['NEG_EMOS']\n",
    "            max_emojis = max(\n",
    "                max_emojis, result['POS_EMOS'] + result['NEG_EMOS'])\n",
    "            num_urls += result['URLS']\n",
    "            max_urls = max(max_urls, result['URLS'])\n",
    "            num_words += result['WORDS']\n",
    "            min_words = min(min_words, result['WORDS'])\n",
    "            max_words = max(max_words, result['WORDS'])\n",
    "            all_words.extend(words)\n",
    "            num_bigrams += result['BIGRAMS']\n",
    "            all_bigrams.extend(bigrams)\n",
    "            write_status(i + 1, num_reviews)\n",
    "    num_emojis = num_pos_emojis + num_neg_emojis\n",
    "    unique_words = list(set(all_words))\n",
    "    with open(f + '-unique.txt', 'w') as uwf:\n",
    "        uwf.write('\\n'.join(unique_words))\n",
    "    num_unique_words = len(unique_words)\n",
    "    num_unique_bigrams = len(set(all_bigrams))\n",
    "    print('\\nCalculating frequency distribution')\n",
    "    # Unigrams\n",
    "    freq_dist = FreqDist(all_words)\n",
    "    pkl_file_name = f + '-freqdist.pkl'\n",
    "    with open(pkl_file_name, 'wb') as pkl_file:\n",
    "        pickle.dump(freq_dist, pkl_file)\n",
    "    print('Saved uni-frequency distribution to %s' % pkl_file_name)\n",
    "    # Bigrams\n",
    "    bigram_freq_dist = get_bigram_freqdist(all_bigrams)\n",
    "    bi_pkl_file_name = f + '-freqdist-bi.pkl'\n",
    "    with open(bi_pkl_file_name, 'wb') as pkl_file:\n",
    "        pickle.dump(bigram_freq_dist, pkl_file)\n",
    "    print('Saved bi-frequency distribution to %s' % bi_pkl_file_name)\n",
    "    print('\\n[Analysis Statistics]')\n",
    "    print('reviews => Total: %d, Positive: %d, Negative: %d' % (num_reviews, num_pos_reviews, num_neg_reviews))\n",
    "    print('User Mentions => Total: %d, Avg: %.4f, Max: %d' % (num_mentions, num_mentions / float(num_reviews), max_mentions))\n",
    "    print('URLs => Total: %d, Avg: %.4f, Max: %d' % (num_urls, num_urls / float(num_reviews), max_urls))\n",
    "    print('Emojis => Total: %d, Positive: %d, Negative: %d, Avg: %.4f, Max: %d' % (num_emojis, num_pos_emojis, num_neg_emojis, num_emojis / float(num_reviews), max_emojis))\n",
    "    print('Words => Total: %d, Unique: %d, Avg: %.4f, Max: %d, Min: %d' % (num_words, num_unique_words, num_words / float(num_reviews), max_words, min_words))\n",
    "    print('Bigrams => Total: %d, Unique: %d, Avg: %.4f' % (num_bigrams, num_unique_bigrams, num_bigrams / float(num_reviews)))"
   ]
  },
  {
   "cell_type": "code",
   "execution_count": null,
   "metadata": {},
   "outputs": [],
   "source": []
  }
 ],
 "metadata": {
  "kernelspec": {
   "display_name": "Python 3",
   "language": "python",
   "name": "python3"
  },
  "language_info": {
   "codemirror_mode": {
    "name": "ipython",
    "version": 3
   },
   "file_extension": ".py",
   "mimetype": "text/x-python",
   "name": "python",
   "nbconvert_exporter": "python",
   "pygments_lexer": "ipython3",
   "version": "3.7.6"
  }
 },
 "nbformat": 4,
 "nbformat_minor": 2
}
