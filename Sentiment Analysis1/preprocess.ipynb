{
 "cells": [
  {
   "cell_type": "code",
   "execution_count": 1,
   "metadata": {},
   "outputs": [],
   "source": [
    "from mymod import write_status\n",
    "import re \n",
    "import sys\n",
    "import nltk"
   ]
  },
  {
   "cell_type": "code",
   "execution_count": 2,
   "metadata": {},
   "outputs": [],
   "source": [
    "def preprocess_word(word):\n",
    "    # Remove punctuation\n",
    "    word = word.strip('\\'\"?!,.():;')\n",
    "    # Convert more than 2 letter repetitions to 2 letter\n",
    "    # funnnnny --> funny\n",
    "    word = re.sub(r'(.)\\1+', r'\\1\\1', word)\n",
    "    # Remove - & '\n",
    "    word = re.sub(r'(-|\\')', '', word)\n",
    "    stop_words = [\n",
    "    \"a\", \"about\", \"above\", \"across\", \"after\", \"afterwards\", \n",
    "    \"again\", \"all\", \"almost\", \"alone\", \"along\", \"already\", \"also\",    \n",
    "    \"although\", \"always\", \"am\", \"among\", \"amongst\", \"amoungst\", \"amount\", \"an\", \"and\", \"another\", \"any\", \"anyhow\", \"anyone\", \"anything\", \"anyway\", \"anywhere\", \"are\", \"as\", \"at\", \"be\", \"became\", \"because\", \"become\",\"becomes\", \"becoming\", \"been\", \"before\", \"behind\", \"being\", \"beside\", \"besides\", \"between\", \"beyond\", \"both\", \"but\", \"by\",\"can\", \"cannot\", \"cant\", \"could\", \"couldnt\", \"de\", \"describe\", \"do\", \"done\", \"each\", \"eg\", \"either\", \"else\", \"enough\", \"etc\", \"even\", \"ever\", \"every\", \"everyone\", \"everything\", \"everywhere\", \"except\", \"few\", \"find\",\"for\",\"found\", \"four\", \"from\", \"further\", \"get\", \"give\", \"go\", \"had\", \"has\", \"hasnt\", \"have\", \"he\", \"hence\", \"her\", \"here\", \"hereafter\", \"hereby\", \"herein\", \"hereupon\", \"hers\", \"herself\", \"him\", \"himself\", \"his\", \"how\", \"however\", \"i\", \"ie\", \"if\", \"in\", \"indeed\", \"is\", \"it\", \"its\", \"itself\", \"keep\", \"least\", \"less\", \"ltd\", \"made\", \"many\", \"may\", \"me\", \"meanwhile\", \"might\", \"mine\", \"more\", \"moreover\", \"most\", \"mostly\", \"much\", \"must\", \"my\", \"myself\", \"name\", \"namely\", \"neither\", \"never\", \"nevertheless\", \"next\",\"no\", \"nobody\", \"none\", \"noone\", \"nor\", \"not\", \"nothing\", \"now\", \"nowhere\", \"of\", \"off\", \"often\", \"on\", \"once\", \"one\", \"only\", \"onto\", \"or\", \"other\", \"others\", \"otherwise\", \"our\", \"ours\", \"ourselves\", \"out\", \"over\", \"own\", \"part\",\"perhaps\", \"please\", \"put\", \"rather\", \"re\", \"same\", \"see\", \"seem\", \"seemed\", \"seeming\", \"seems\", \"she\", \"should\",\"since\", \"sincere\",\"so\", \"some\", \"somehow\", \"someone\", \"something\", \"sometime\", \"sometimes\", \"somewhere\", \"still\", \"such\", \"take\",\"than\", \"that\", \"the\", \"their\", \"them\", \"themselves\", \"then\", \"thence\", \"there\", \"thereafter\", \"thereby\", \"therefore\", \"therein\", \"thereupon\", \"these\", \"they\",\n",
    "    \"this\", \"those\", \"though\", \"through\", \"throughout\",\"im\",\n",
    "    \"thru\", \"thus\", \"to\", \"together\", \"too\", \"toward\", \"towards\",\n",
    "    \"under\", \"until\", \"up\", \"upon\", \"us\",\n",
    "    \"very\", \"was\", \"we\", \"well\", \"were\", \"what\", \"whatever\", \"when\",\n",
    "    \"whence\", \"whenever\", \"where\", \"whereafter\", \"whereas\", \"whereby\",\n",
    "    \"wherein\", \"whereupon\", \"wherever\", \"whether\", \"which\", \"while\", \n",
    "    \"who\", \"whoever\", \"whom\", \"whose\", \"why\", \"will\", \"with\",\n",
    "    \"within\", \"without\", \"would\", \"yet\", \"you\", \"your\", \"yours\", \"yourself\", \"yourselves\"\n",
    "    ]\n",
    "    if word in stop_words:\n",
    "        word=\"\"\n",
    "    return word"
   ]
  },
  {
   "cell_type": "code",
   "execution_count": 3,
   "metadata": {},
   "outputs": [],
   "source": [
    "def is_valid_word(word):\n",
    "    # Check if word begins with an alphabet\n",
    "    return (re.search(r'^[a-zA-Z][a-z0-9A-Z\\._]*$', word) is not None)"
   ]
  },
  {
   "cell_type": "code",
   "execution_count": 4,
   "metadata": {},
   "outputs": [],
   "source": [
    "def handle_emojis(review):\n",
    "    # Smile -- :), : ), :-), (:, ( :, (-:, :') ,<:o)\n",
    "    review = re.sub(r'(:\\s?\\)|:-\\)|\\(\\s?:|\\(-:|:\\'\\)|\\<:o\\))', ' EMO_POS ', review)\n",
    "    # Laugh -- :D, : D, :-D, xD, x-D, XD, X-D ,:p\n",
    "    review = re.sub(r'(:\\s?D|:-D|x-?D|X-?D|:p)', ' EMO_POS ', review)\n",
    "    # Love -- <3, :*\n",
    "    review = re.sub(r'(<3|:\\*)', ' EMO_POS ', review)\n",
    "    # Wink -- ;-), ;), ;-D, ;D, (;,  (-;\n",
    "    review = re.sub(r'(;-?\\)|;-?D|\\(-?;)', ' EMO_POS ', review)\n",
    "    # Confused -- :-S , :s ,:S\n",
    "    review = re.sub(r'(:-?(s|S))', ' EMO_NEG ', review)\n",
    "    # Sad -- :-(, : (, :(, ):, )-:, :'(, :] ,:-|\n",
    "    review = re.sub(r'(:\\s?\\(|:-\\(|\\)\\s?:|\\)-:|:\\'\\(|:\\]|:-\\|)', ' EMO_NEG ', review)\n",
    "    # Cry -- :,(, :'(, :\"(\n",
    "    review = re.sub(r'(:,\\(|:\\'\\(|:\"\\()', ' EMO_NEG ', review)\n",
    "    return review"
   ]
  },
  {
   "cell_type": "code",
   "execution_count": 5,
   "metadata": {},
   "outputs": [],
   "source": [
    "def preprocess_review(review):\n",
    "    processed_review = []\n",
    "    # Convert to lower case\n",
    "    review = review.lower()\n",
    "    # Replaces URLs with the word URL\n",
    "    review = re.sub(r'((www\\.[\\S]+)|(https?://[\\S]+))', ' URL ', review)\n",
    "    # Replace @handle with the word USER_MENTION\n",
    "    review = re.sub(r'@[\\S]+', 'USER_MENTION', review)\n",
    "    # Replaces #hashtag with hashtag\n",
    "    review = re.sub(r'#(\\S+)', r' \\1 ', review)\n",
    "    # Remove RT (rereview)\n",
    "    review = re.sub(r'(\\brt\\b|&[\\S])', '', review)\n",
    "    # Replace 2+ dots with space\n",
    "    review = re.sub(r'\\.{2,}', ' ', review)\n",
    "    # Strip space, \" and ' from review\n",
    "    review = review.strip(' \"\\'')\n",
    "    # Replace emojis with either EMO_POS or EMO_NEG\n",
    "    review = handle_emojis(review)\n",
    "    # Replace multiple spaces with a single space\n",
    "    review = re.sub(r'\\s+', ' ', review)\n",
    "    words = review.split()\n",
    "\n",
    "    for word in words:\n",
    "        word = preprocess_word(word)\n",
    "        if is_valid_word(word):\n",
    "            if use_stemmer:\n",
    "                word = str(porter_stemmer.stem(word))\n",
    "            processed_review.append(word)\n",
    "\n",
    "    return ' '.join(processed_review)"
   ]
  },
  {
   "cell_type": "code",
   "execution_count": 6,
   "metadata": {},
   "outputs": [],
   "source": [
    "def preprocess_csv(csv_file_name, processed_file_name, test_file):\n",
    "    save_to_file = open(processed_file_name, 'w')\n",
    "\n",
    "    with open(csv_file_name, 'r') as csv:\n",
    "        lines = csv.readlines()\n",
    "        total = len(lines)\n",
    "        #print(lines,\" \",total)\n",
    "        for i, line in enumerate(lines):\n",
    "            #print(i,line)\n",
    "            review_id = line[:line.find(',')]\n",
    "            #print(review_id,test_file)\n",
    "            if not test_file:\n",
    "                line = line[1 + line.find(','):]\n",
    "                positive = int(line[:line.find(',')])\n",
    "                #print(positive)\n",
    "            line = line[1 + line.find(','):]\n",
    "            review = line\n",
    "            #print(review)\n",
    "            processed_review = preprocess_review(review)\n",
    "            #print(\"hello\",processed_review)\n",
    "            if not test_file:\n",
    "                save_to_file.write('%s,%d,%s\\n' %\n",
    "                                   (review_id, positive, processed_review))\n",
    "            else:\n",
    "                save_to_file.write('%s,%s\\n' %\n",
    "                                   (review_id, processed_review))\n",
    "            write_status(i + 1, total)\n",
    "    save_to_file.close()\n",
    "    print('\\nSaved processed reviews to: %s' % processed_file_name)\n",
    "    return processed_file_name"
   ]
  },
  {
   "cell_type": "code",
   "execution_count": 7,
   "metadata": {},
   "outputs": [
    {
     "name": "stdout",
     "output_type": "stream",
     "text": [
      "enter csv file nametest\n",
      "test-processed.csv\n",
      "Processing 49999/49999\n",
      "Saved processed reviews to: test-processed.csv\n"
     ]
    },
    {
     "data": {
      "text/plain": [
       "'test-processed.csv'"
      ]
     },
     "execution_count": 7,
     "metadata": {},
     "output_type": "execute_result"
    }
   ],
   "source": [
    "file = input(\"enter csv file name\")\n",
    "csv_file_name = file + '.csv'\n",
    "processed_file_name = file + '-processed.csv'\n",
    "use_stemmer = False\n",
    "print(processed_file_name)\n",
    "preprocess_csv(csv_file_name, processed_file_name, test_file=True)"
   ]
  },
  {
   "cell_type": "code",
   "execution_count": null,
   "metadata": {},
   "outputs": [],
   "source": []
  }
 ],
 "metadata": {
  "kernelspec": {
   "display_name": "Python 3",
   "language": "python",
   "name": "python3"
  },
  "language_info": {
   "codemirror_mode": {
    "name": "ipython",
    "version": 3
   },
   "file_extension": ".py",
   "mimetype": "text/x-python",
   "name": "python",
   "nbconvert_exporter": "python",
   "pygments_lexer": "ipython3",
   "version": "3.7.6"
  }
 },
 "nbformat": 4,
 "nbformat_minor": 2
}
